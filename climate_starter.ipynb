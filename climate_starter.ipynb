{
 "cells": [
  {
   "cell_type": "code",
   "execution_count": 8,
   "metadata": {},
   "outputs": [],
   "source": [
    "%matplotlib inline\n",
    "from matplotlib import style\n",
    "style.use('fivethirtyeight')\n",
    "import matplotlib.pyplot as plt"
   ]
  },
  {
   "cell_type": "code",
   "execution_count": 9,
   "metadata": {},
   "outputs": [],
   "source": [
    "import numpy as np\n",
    "import pandas as pd\n",
    "import datetime as dt\n",
    "from datetime import datetime, timedelta\n",
    "from dateutil.relativedelta import *\n",
    "from sqlalchemy import func\n"
   ]
  },
  {
   "cell_type": "markdown",
   "metadata": {},
   "source": [
    "# Reflect Tables into SQLAlchemy ORM"
   ]
  },
  {
   "cell_type": "code",
   "execution_count": 10,
   "metadata": {},
   "outputs": [],
   "source": [
    "# Python SQL toolkit and Object Relational Mapper\n",
    "import sqlalchemy\n",
    "from sqlalchemy.ext.automap import automap_base\n",
    "from sqlalchemy.orm import Session\n",
    "from sqlalchemy import create_engine, func"
   ]
  },
  {
   "cell_type": "code",
   "execution_count": 11,
   "metadata": {},
   "outputs": [],
   "source": [
    "# creating engine to hawaii.sqlite\n",
    "engine = create_engine(\"sqlite:///hawaii.sqlite\")"
   ]
  },
  {
   "cell_type": "code",
   "execution_count": 12,
   "metadata": {},
   "outputs": [],
   "source": [
    "# reflecting an existing database into a new model\n",
    "Base = automap_base()"
   ]
  },
  {
   "cell_type": "code",
   "execution_count": 13,
   "metadata": {},
   "outputs": [],
   "source": [
    "# reflecting the tables\n",
    "Base.prepare(engine, reflect=True)"
   ]
  },
  {
   "cell_type": "code",
   "execution_count": 14,
   "metadata": {},
   "outputs": [
    {
     "data": {
      "text/plain": [
       "['measurement', 'station']"
      ]
     },
     "execution_count": 14,
     "metadata": {},
     "output_type": "execute_result"
    }
   ],
   "source": [
    "# View all of the classes that automap found\n",
    "Base.classes.keys()"
   ]
  },
  {
   "cell_type": "code",
   "execution_count": 15,
   "metadata": {},
   "outputs": [],
   "source": [
    "# Save references to each table\n",
    "Measurement = Base.classes.measurement\n",
    "Station = Base.classes.station"
   ]
  },
  {
   "cell_type": "code",
   "execution_count": 16,
   "metadata": {},
   "outputs": [],
   "source": [
    "# Create our session (link) from Python to the DB\n",
    "session = Session(engine)"
   ]
  },
  {
   "cell_type": "markdown",
   "metadata": {},
   "source": [
    "# Exploratory Precipitation Analysis"
   ]
  },
  {
   "cell_type": "code",
   "execution_count": 17,
   "metadata": {},
   "outputs": [],
   "source": [
    "# Finding the most recent date in the data set.\n",
    "most_recent_date = session.query(Measurement.date).order_by((Measurement.date).desc()).first()\n",
    "most_recent_date = datetime.strptime(most_recent_date[0], '%Y-%m-%d').date()"
   ]
  },
  {
   "cell_type": "code",
   "execution_count": 18,
   "metadata": {},
   "outputs": [],
   "source": [
    "# Designing a query to retrieve the last 12 months of precipitation data and plot the results. \n",
    "# storing the 12 month offset from the m,ost recent date \n",
    "last_12 = most_recent_date + relativedelta(months=-12)\n",
    "\n",
    "\n",
    "# Performing a query to retrieve the data and precipitation scores\n",
    "query = session.query(Measurement.date, Measurement.prcp).filter(func.strftime(Measurement.date) >= last_12).all()"
   ]
  },
  {
   "cell_type": "code",
   "execution_count": 19,
   "metadata": {},
   "outputs": [],
   "source": [
    "# Save the query results as a Pandas DataFrame and setting the index to the date column\n",
    "# creating columns for the dataframe\n",
    "columns = ['date', 'precipitation']\n",
    "\n",
    "# creating the dataframe\n",
    "precipitation_df  = pd.DataFrame(columns = columns)\n",
    "\n",
    "# cursing through the precipitation query and appending to the new precipitation dataframe\n",
    "for data in query:\n",
    "    precipitation_df = precipitation_df.append({\n",
    "        'date' : pd.to_datetime(data[0]),\n",
    "        'precipitation' : data[1]}, ignore_index = True)  "
   ]
  },
  {
   "cell_type": "code",
   "execution_count": 20,
   "metadata": {},
   "outputs": [],
   "source": [
    "#setting the index on the date     \n",
    "precipitation_df = precipitation_df.set_index('date')"
   ]
  },
  {
   "cell_type": "code",
   "execution_count": 21,
   "metadata": {},
   "outputs": [],
   "source": [
    "# Sorting the dataframe by date and dropping all records that contain a null marker in the precipitation\n",
    "precipitation_df = precipitation_df.sort_values('date').dropna()"
   ]
  },
  {
   "cell_type": "code",
   "execution_count": 22,
   "metadata": {},
   "outputs": [
    {
     "data": {
      "image/png": "[encoded data removed]",
      "text/plain": [
       "<Figure size 864x576 with 1 Axes>"
      ]
     },
     "metadata": {},
     "output_type": "display_data"
    }
   ],
   "source": [
    "# Create figure to plot data\n",
    "fig, ax = plt.subplots(figsize=(12, 8))\n",
    "\n",
    "# Adding x-axis and y-axis\n",
    "ax.bar(precipitation_df.index,\n",
    "       precipitation_df['precipitation'])\n",
    "\n",
    "# Seting title and labels for axes\n",
    "ax.set(xlabel=\"Date\",\n",
    "       ylabel=\"Precipitation (inches)\",\n",
    "       title = 'Precipitation')\n",
    "\n",
    "# Rotating tick marks on x-axis\n",
    "plt.setp(ax.get_xticklabels(), rotation=90)\n",
    "\n",
    "plt.show()"
   ]
  },
  {
   "cell_type": "code",
   "execution_count": 23,
   "metadata": {},
   "outputs": [
    {
     "data": {
      "text/html": [
       "<div>\n",
       "<style scoped>\n",
       "    .dataframe tbody tr th:only-of-type {\n",
       "        vertical-align: middle;\n",
       "    }\n",
       "\n",
       "    .dataframe tbody tr th {\n",
       "        vertical-align: top;\n",
       "    }\n",
       "\n",
       "    .dataframe thead th {\n",
       "        text-align: right;\n",
       "    }\n",
       "</style>\n",
       "<table border=\"1\" class=\"dataframe\">\n",
       "  <thead>\n",
       "    <tr style=\"text-align: right;\">\n",
       "      <th></th>\n",
       "      <th>precipitation</th>\n",
       "    </tr>\n",
       "  </thead>\n",
       "  <tbody>\n",
       "    <tr>\n",
       "      <th>count</th>\n",
       "      <td>2021.000000</td>\n",
       "    </tr>\n",
       "    <tr>\n",
       "      <th>mean</th>\n",
       "      <td>0.177279</td>\n",
       "    </tr>\n",
       "    <tr>\n",
       "      <th>std</th>\n",
       "      <td>0.461190</td>\n",
       "    </tr>\n",
       "    <tr>\n",
       "      <th>min</th>\n",
       "      <td>0.000000</td>\n",
       "    </tr>\n",
       "    <tr>\n",
       "      <th>25%</th>\n",
       "      <td>0.000000</td>\n",
       "    </tr>\n",
       "    <tr>\n",
       "      <th>50%</th>\n",
       "      <td>0.020000</td>\n",
       "    </tr>\n",
       "    <tr>\n",
       "      <th>75%</th>\n",
       "      <td>0.130000</td>\n",
       "    </tr>\n",
       "    <tr>\n",
       "      <th>max</th>\n",
       "      <td>6.700000</td>\n",
       "    </tr>\n",
       "  </tbody>\n",
       "</table>\n",
       "</div>"
      ],
      "text/plain": [
       "       precipitation\n",
       "count    2021.000000\n",
       "mean        0.177279\n",
       "std         0.461190\n",
       "min         0.000000\n",
       "25%         0.000000\n",
       "50%         0.020000\n",
       "75%         0.130000\n",
       "max         6.700000"
      ]
     },
     "execution_count": 23,
     "metadata": {},
     "output_type": "execute_result"
    }
   ],
   "source": [
    "# Using Pandas to calcualte the summary statistics for the precipitation data\n",
    "precipitation_df.describe()"
   ]
  },
  {
   "cell_type": "code",
   "execution_count": 24,
   "metadata": {},
   "outputs": [
    {
     "name": "stdout",
     "output_type": "stream",
     "text": [
      " There are a total of 9 stations in the Stations table\n"
     ]
    }
   ],
   "source": [
    "# Designing a query to calculate the total number stations in the dataset\n",
    "total_stations = session.query(Station.id).distinct().count()\n",
    "print(f\" There are a total of {total_stations} stations in the Stations table\")  "
   ]
  },
  {
   "cell_type": "code",
   "execution_count": 25,
   "metadata": {},
   "outputs": [
    {
     "name": "stdout",
     "output_type": "stream",
     "text": [
      " Station id: USC00519281, Count: 2772    name: WAIHEE 837.5, HI US\n",
      " Station id: USC00519397, Count: 2724    name: WAIKIKI 717.2, HI US\n",
      " Station id: USC00513117, Count: 2709    name: KANEOHE 838.1, HI US\n",
      " Station id: USC00519523, Count: 2669    name: WAIMANALO EXPERIMENTAL FARM, HI US\n",
      " Station id: USC00516128, Count: 2612    name: MANOA LYON ARBO 785.2, HI US\n",
      " Station id: USC00514830, Count: 2202    name: KUALOA RANCH HEADQUARTERS 886.9, HI US\n",
      " Station id: USC00511918, Count: 1979    name: HONOLULU OBSERVATORY 702.2, HI US\n",
      " Station id: USC00517948, Count: 1372    name: PEARL CITY, HI US\n",
      " Station id: USC00518838, Count: 511    name: UPPER WAHIAWA 874.3, HI US\n"
     ]
    }
   ],
   "source": [
    "# Designing a query to find the most active stations and listing the stations and the counts in descending order.\n",
    "stations =  session.query(Station.station, Station.name, func.count(Measurement.station)).\\\n",
    "                group_by(Measurement.station).\\\n",
    "                filter(Measurement.station == Station.station).\\\n",
    "                order_by(func.count(Measurement.station).desc()).all()\n",
    "\n",
    "# printing stations and the counts\n",
    "for i in stations:\n",
    "    print(f\" Station id: {i[0]}, Count: {i[2]}    name: {i[1]}\")"
   ]
  },
  {
   "cell_type": "code",
   "execution_count": null,
   "metadata": {
    "scrolled": true
   },
   "outputs": [],
   "source": [
    "#id of highest avtive station\n",
    "highest_active_id = stations[0][0]"
   ]
  },
  {
   "cell_type": "code",
   "execution_count": 27,
   "metadata": {},
   "outputs": [
    {
     "name": "stdout",
     "output_type": "stream",
     "text": [
      "The lowest  temperature for the most active station is:  54.0\n",
      "The highest temperature for the most active station is:  85.0\n",
      "The average temperature for the most active station is:  71.66\n"
     ]
    }
   ],
   "source": [
    "# Using the most active station id from the previous query, calculate the lowest, highest, and average temperature.\n",
    "lowest_temp = session.query(Measurement.station , func.min(Measurement.tobs)).\\\n",
    "                      group_by(Measurement.station).\\\n",
    "                      filter(Measurement.station == Station.station).\\\n",
    "                      filter(Station.station == highest_active_id).all()\n",
    "\n",
    "highest_temp = session.query(Measurement.station, func.max(Measurement.tobs)).\\\n",
    "                       group_by(Measurement.station).\\\n",
    "                       filter(Measurement.station == Station.station).\\\n",
    "                       filter(Station.station == highest_active_id).all()\n",
    "\n",
    "average_temp = session.query(Measurement.station, func.avg(Measurement.tobs)).\\\n",
    "                       group_by(Measurement.station).\\\n",
    "                       filter(Measurement.station == Station.station).\\\n",
    "                       filter(Station.station == highest_active_id).all()\n",
    "\n",
    "print(f\"The lowest  temperature for the most active station is:  {round(lowest_temp[0][1],2)}\")\n",
    "print(f\"The highest temperature for the most active station is:  {round(highest_temp[0][1],2)}\")\n",
    "print(f\"The average temperature for the most active station is:  {round(average_temp[0][1],2)}\")"
   ]
  },
  {
   "cell_type": "code",
   "execution_count": 28,
   "metadata": {},
   "outputs": [
    {
     "data": {
      "image/png": "[encoded data removed]",
      "text/plain": [
       "<Figure size 432x288 with 1 Axes>"
      ]
     },
     "metadata": {},
     "output_type": "display_data"
    }
   ],
   "source": [
    "# Query the last 12 months of temperature observation data for this station and plot the results as a histogram for the most active station\n",
    "query = session.query(Measurement.date, Measurement.tobs).\\\n",
    "                filter(func.strftime(Measurement.date) >= last_12).\\\n",
    "                filter(Measurement.station == highest_active_id).all()\n",
    "\n",
    "# creating columns for the dataframe\n",
    "columns = ['date', 'temperature_observation']\n",
    "\n",
    "# creating dataframe\n",
    "temperature_df  = pd.DataFrame(columns = columns)\n",
    "\n",
    "# cursing through the temperature observation query and appending to the new precipitation dataframe\n",
    "for data in query:\n",
    "    temperature_df = temperature_df.append({\n",
    "                    'date' : pd.to_datetime(data[0]),\n",
    "                    'temperature_observation' : data[1]}, ignore_index = True)  \n",
    "#x axis    \n",
    "x = temperature_df['temperature_observation']\n",
    "\n",
    "\n",
    "# histogram title\n",
    "plt.title('Temperature Observation Histogram')\n",
    "\n",
    "\n",
    "# creating the label on the x axis \n",
    "plt.xlabel('Temperature Observation',  size=10)\n",
    "\n",
    "\n",
    "# creating the label on the y axis \n",
    "plt.ylabel('Frequency', size=12)\n",
    "\n",
    "\n",
    "# creating the histogram \n",
    "plt.hist(x, bins=12, label = \"Temperature\")\n",
    "\n",
    "\n",
    "# adding the legend \n",
    "plt.legend()\n",
    "\n",
    "\n",
    "\n",
    "plt.show()"
   ]
  },
  {
   "cell_type": "code",
   "execution_count": 41,
   "metadata": {},
   "outputs": [],
   "source": [
    "#Closing Session\n",
    "session.close()"
   ]
  },
  {
   "cell_type": "code",
   "execution_count": null,
   "metadata": {},
   "outputs": [],
   "source": []
  }
 ],
 "metadata": {
  "anaconda-cloud": {},
  "kernel_info": {
   "name": "python3"
  },
  "kernelspec": {
   "display_name": "Python 3",
   "language": "python",
   "name": "python3"
  },
  "language_info": {
   "codemirror_mode": {
    "name": "ipython",
    "version": 3
   },
   "file_extension": ".py",
   "mimetype": "text/x-python",
   "name": "python",
   "nbconvert_exporter": "python",
   "pygments_lexer": "ipython3",
   "version": "3.8.3"
  },
  "nteract": {
   "version": "0.12.3"
  },
  "varInspector": {
   "cols": {
    "lenName": 16,
    "lenType": 16,
    "lenVar": 40
   },
   "kernels_config": {
    "python": {
     "delete_cmd_postfix": "",
     "delete_cmd_prefix": "del ",
     "library": "var_list.py",
     "varRefreshCmd": "print(var_dic_list())"
    },
    "r": {
     "delete_cmd_postfix": ") ",
     "delete_cmd_prefix": "rm(",
     "library": "var_list.r",
     "varRefreshCmd": "cat(var_dic_list()) "
    }
   },
   "types_to_exclude": [
    "module",
    "function",
    "builtin_function_or_method",
    "instance",
    "_Feature"
   ],
   "window_display": false
  }
 },
 "nbformat": 4,
 "nbformat_minor": 4
}
